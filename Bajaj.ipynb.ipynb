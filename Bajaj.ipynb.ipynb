{
  "nbformat": 4,
  "nbformat_minor": 0,
  "metadata": {
    "colab": {
      "provenance": []
    },
    "kernelspec": {
      "name": "python3",
      "display_name": "Python 3"
    },
    "language_info": {
      "name": "python"
    }
  },
  "cells": [
    {
      "cell_type": "code",
      "execution_count": 1,
      "metadata": {
        "colab": {
          "base_uri": "https://localhost:8080/"
        },
        "id": "JJOFyvtpZyY2",
        "outputId": "77ea930b-90a0-4b00-9806-40294297a208"
      },
      "outputs": [
        {
          "output_type": "stream",
          "name": "stdout",
          "text": [
            "0.0, 70.97, 32.26\n"
          ]
        }
      ],
      "source": [
        "# Question 1\n",
        "import pandas as pd\n",
        "import json\n",
        "\n",
        "\n",
        "file_path = '/content/DataEngineeringQ2.json'\n",
        "with open(file_path, 'r') as file:\n",
        "    data = json.load(file)\n",
        "\n",
        "\n",
        "df = pd.json_normalize(data)\n",
        "\n",
        "\n",
        "patient_details = pd.json_normalize(data, sep='_').filter(like='patientDetails')\n",
        "\n",
        "\n",
        "def calculate_missing_percentage(column):\n",
        "    missing_count = patient_details[column].replace(['', ' '], pd.NA).isna().sum()\n",
        "    total_count = len(patient_details)\n",
        "    return round((missing_count / total_count) * 100, 2)\n",
        "\n",
        "\n",
        "missing_first_name = calculate_missing_percentage('patientDetails_firstName')\n",
        "missing_last_name = calculate_missing_percentage('patientDetails_lastName')\n",
        "missing_dob = calculate_missing_percentage('patientDetails_birthDate')\n",
        "\n",
        "\n",
        "print(f\"{missing_first_name}, {missing_last_name}, {missing_dob}\")\n"
      ]
    },
    {
      "cell_type": "code",
      "source": [
        "#Question 2\n",
        "mode_gender = patient_details['patientDetails_gender'].mode()[0]\n",
        "patient_details['patientDetails_gender'].replace('', mode_gender, inplace=True)\n",
        "\n",
        "\n",
        "female_percentage = round((patient_details['patientDetails_gender'].value_counts().get('F', 0) / len(patient_details)) * 100, 2)\n",
        "\n",
        "\n",
        "print(f\"{female_percentage}\")\n"
      ],
      "metadata": {
        "colab": {
          "base_uri": "https://localhost:8080/"
        },
        "id": "zAb3wwQiaOJd",
        "outputId": "68c5d92d-e75e-4fa8-f275-c9ecf0d04c96"
      },
      "execution_count": 2,
      "outputs": [
        {
          "output_type": "stream",
          "name": "stdout",
          "text": [
            "32.26\n"
          ]
        },
        {
          "output_type": "stream",
          "name": "stderr",
          "text": [
            "<ipython-input-2-ef20e1230ff3>:2: FutureWarning: A value is trying to be set on a copy of a DataFrame or Series through chained assignment using an inplace method.\n",
            "The behavior will change in pandas 3.0. This inplace method will never work because the intermediate object on which we are setting values always behaves as a copy.\n",
            "\n",
            "For example, when doing 'df[col].method(value, inplace=True)', try using 'df.method({col: value}, inplace=True)' or df[col] = df[col].method(value) instead, to perform the operation inplace on the original object.\n",
            "\n",
            "\n",
            "  patient_details['patientDetails_gender'].replace('', mode_gender, inplace=True)\n"
          ]
        }
      ]
    },
    {
      "cell_type": "code",
      "source": [
        "#Question 3\n",
        "from datetime import datetime\n",
        "\n",
        "current_year = datetime.now().year\n",
        "\n",
        "\n",
        "patient_details['patientDetails_birthDate'] = pd.to_datetime(patient_details['patientDetails_birthDate'], errors='coerce')\n",
        "\n",
        "\n",
        "patient_details['age'] = patient_details['patientDetails_birthDate'].apply(lambda dob: current_year - dob.year if pd.notna(dob) else None)\n",
        "\n",
        "\n",
        "def categorize_age(age):\n",
        "    if age is None:\n",
        "        return None\n",
        "    elif age <= 12:\n",
        "        return 'Child'\n",
        "    elif 13 <= age <= 19:\n",
        "        return 'Teen'\n",
        "    elif 20 <= age <= 59:\n",
        "        return 'Adult'\n",
        "    else:\n",
        "        return 'Senior'\n",
        "\n",
        "patient_details['ageGroup'] = patient_details['age'].apply(categorize_age)\n",
        "\n",
        "\n",
        "adult_count = patient_details['ageGroup'].value_counts().get('Adult', 0)\n",
        "\n",
        "\n",
        "print(adult_count)\n"
      ],
      "metadata": {
        "colab": {
          "base_uri": "https://localhost:8080/"
        },
        "id": "gQvcm5L2agq5",
        "outputId": "22bdcaf0-2416-41d3-9755-d21821fe2f59"
      },
      "execution_count": 3,
      "outputs": [
        {
          "output_type": "stream",
          "name": "stdout",
          "text": [
            "21\n"
          ]
        }
      ]
    },
    {
      "cell_type": "code",
      "source": [
        "#Question 4\n",
        "average_medicines = round(df['consultationData.medicines'].apply(len).mean(), 2)\n",
        "\n",
        "\n",
        "print(average_medicines)\n"
      ],
      "metadata": {
        "colab": {
          "base_uri": "https://localhost:8080/"
        },
        "id": "aFW2ZP6uaqll",
        "outputId": "3a032bb4-a3e9-4753-d3d3-a4907903fa9c"
      },
      "execution_count": 4,
      "outputs": [
        {
          "output_type": "stream",
          "name": "stdout",
          "text": [
            "2.13\n"
          ]
        }
      ]
    },
    {
      "cell_type": "code",
      "source": [
        "#Question 5\n",
        "from collections import Counter\n",
        "\n",
        "\n",
        "all_medicines = [med['medicineName'] for medicines in df['consultationData.medicines'] for med in medicines]\n",
        "\n",
        "\n",
        "medicine_counts = Counter(all_medicines)\n",
        "third_most_frequent = [med for med, count in medicine_counts.most_common(3)][2]\n",
        "\n",
        "\n",
        "print(third_most_frequent)\n"
      ],
      "metadata": {
        "colab": {
          "base_uri": "https://localhost:8080/"
        },
        "id": "DhpEbHisaw-b",
        "outputId": "ab67518d-0b10-4536-d040-d8a0915bb6d4"
      },
      "execution_count": 5,
      "outputs": [
        {
          "output_type": "stream",
          "name": "stdout",
          "text": [
            "C\n"
          ]
        }
      ]
    },
    {
      "cell_type": "code",
      "source": [
        "# Question 6\n",
        "active_count = sum(1 for medicines in df['consultationData.medicines'] for med in medicines if med['isActive'])\n",
        "inactive_count = sum(1 for medicines in df['consultationData.medicines'] for med in medicines if not med['isActive'])\n",
        "total_medicines = active_count + inactive_count\n",
        "\n",
        "\n",
        "active_percentage = round((active_count / total_medicines) * 100, 2)\n",
        "inactive_percentage = round((inactive_count / total_medicines) * 100, 2)\n",
        "\n",
        "\n",
        "print(f\"{active_percentage}, {inactive_percentage}\")\n"
      ],
      "metadata": {
        "colab": {
          "base_uri": "https://localhost:8080/"
        },
        "id": "RC_ERduYa1dZ",
        "outputId": "69166e2d-1c6d-4f3e-c3fa-f10e75fdde99"
      },
      "execution_count": 6,
      "outputs": [
        {
          "output_type": "stream",
          "name": "stdout",
          "text": [
            "69.7, 30.3\n"
          ]
        }
      ]
    },
    {
      "cell_type": "code",
      "source": [
        "# Question 7\n",
        "def is_valid_indian_phone_number(number):\n",
        "    number = str(number).strip()\n",
        "    if number.startswith('+91'):\n",
        "        number = number[3:]\n",
        "    elif number.startswith('91'):\n",
        "        number = number[2:]\n",
        "    return len(number) == 10 and number.isdigit() and number[0] in '6789'\n",
        "\n",
        "\n",
        "df['isValidMobile'] = df['phoneNumber'].apply(is_valid_indian_phone_number)\n",
        "\n",
        "\n",
        "valid_phone_count = df['isValidMobile'].sum()\n",
        "\n",
        "\n",
        "print(valid_phone_count)\n"
      ],
      "metadata": {
        "colab": {
          "base_uri": "https://localhost:8080/"
        },
        "id": "R3jWDUfna6iR",
        "outputId": "d985ba18-4a93-431f-ebea-72747739ae28"
      },
      "execution_count": 7,
      "outputs": [
        {
          "output_type": "stream",
          "name": "stdout",
          "text": [
            "18\n"
          ]
        }
      ]
    },
    {
      "cell_type": "code",
      "source": [
        "# Question 8\n",
        "df['numMedicines'] = df['consultationData.medicines'].apply(len)\n",
        "\n",
        "\n",
        "df['age'] = patient_details['age']\n",
        "\n",
        "\n",
        "valid_rows = df[['numMedicines', 'age']].dropna()\n",
        "\n",
        "\n",
        "pearson_correlation = round(valid_rows['numMedicines'].corr(valid_rows['age']), 2)\n",
        "\n",
        "\n",
        "print(pearson_correlation)\n"
      ],
      "metadata": {
        "colab": {
          "base_uri": "https://localhost:8080/"
        },
        "id": "SXGBkq3Ia_CN",
        "outputId": "97f183d6-7d02-48d8-e07d-8ab8118d9898"
      },
      "execution_count": 8,
      "outputs": [
        {
          "output_type": "stream",
          "name": "stdout",
          "text": [
            "-0.21\n"
          ]
        }
      ]
    }
  ]
}